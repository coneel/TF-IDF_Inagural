{
 "cells": [
  {
   "cell_type": "markdown",
   "metadata": {},
   "source": [
    "## Assignment 2: Apply TF-IDF to the Inaugural Corpus \n",
    "Our second assignment will have us write code to \n",
    "1. Define or augment a set of stopwords for this problem\n",
    "2. Construct a document-by-term matrix (documents will be rows, terms will be columns), along with a vocabulary while controlling for stopwords\n",
    "3. Write functions to comput TF-IDF and apply those to the document-by-term matrix\n",
    "4. Find the closest historic inaugural address to the 2017 address by President Trump\n",
    "5. Learn to use the PCA transformation and plot the inaugural address along the first two principal components\n",
    "\n",
    "This assignment is to be done individually. Your code should be your own (with the exception of question 5, for which you're free to get some help from the web).\n",
    "\n",
    "**Due Date: 2020-09-20 5 pm ET**\n",
    "\n",
    "Please submit your completed assignment through GradeScope. You should submit a PDF of your notebook with all output."
   ]
  },
  {
   "cell_type": "code",
   "execution_count": 8,
   "metadata": {},
   "outputs": [],
   "source": [
    "import re\n",
    "import math\n",
    "import pandas as pd\n",
    "import numpy as np\n",
    "\n",
    "import nltk\n",
    "from nltk.corpus import stopwords\n",
    "from nltk.corpus import inaugural\n"
   ]
  },
  {
   "cell_type": "code",
   "execution_count": 9,
   "metadata": {},
   "outputs": [],
   "source": [
    "tokenizer = nltk.data.load('tokenizers/punkt/english.pickle')\n",
    "\n",
    "porter    = nltk.PorterStemmer()\n",
    "lancaster = nltk.LancasterStemmer()\n",
    "wnl       = nltk.WordNetLemmatizer()"
   ]
  },
  {
   "cell_type": "code",
   "execution_count": 10,
   "metadata": {},
   "outputs": [
    {
     "data": {
      "text/plain": [
       "['1789-Washington.txt',\n",
       " '1793-Washington.txt',\n",
       " '1797-Adams.txt',\n",
       " '1801-Jefferson.txt']"
      ]
     },
     "execution_count": 10,
     "metadata": {},
     "output_type": "execute_result"
    }
   ],
   "source": [
    "inaugural.fileids()[:4]"
   ]
  },
  {
   "cell_type": "code",
   "execution_count": 5,
   "metadata": {},
   "outputs": [
    {
     "data": {
      "text/plain": [
       "['Fellow', '-', 'Citizens', 'of', 'the', 'Senate', ...]"
      ]
     },
     "execution_count": 5,
     "metadata": {},
     "output_type": "execute_result"
    }
   ],
   "source": [
    "inaugural.words(inaugural.fileids())\n"
   ]
  },
  {
   "cell_type": "code",
   "execution_count": 6,
   "metadata": {},
   "outputs": [],
   "source": [
    "stop_words = set(stopwords.words('english'))"
   ]
  },
  {
   "cell_type": "markdown",
   "metadata": {},
   "source": [
    "### 1. Stopwords\n",
    "\n",
    "**Update stopwords once you've had a chance to explore the text**\n",
    "\n",
    "Remove all punctuation and strange unicode characters, and anything else you think might be extraneous"
   ]
  },
  {
   "cell_type": "code",
   "execution_count": 7,
   "metadata": {},
   "outputs": [],
   "source": [
    "Stopword_list = ['-', '.',\"'\", '?', '!', '--', '?', '\"','--','.\"', ')','(',\"'s\", ';',\"$\",'\";', '\"?', \"$\",\",\", ',\"', '.\"', ')', '.)', '...', '....', '.¡¨', '000','1','100', '120', '125', '\"', ')', ')', ',', '0', '1', '13', '14th', '15th', '16', \"),\",'1774', '1776', '1778', '1780', '1787', '1789', '1790', '1800', '1801', '1812', '1815', '1816', '1817', '1818', '1826', '1850', '1861', '1868', '1873', '1880', '1886', '1890', '1893', '1896', '1897', '1898', '1899', '18th', '1907', '1917', '1933', '1941', '1945', '1963', '1972', '1980', '1984', '19th', '2', '20', '200', '200th', '2017', '20th', '21st', '225', '25','3','30','30th','3d','4','40','400','41','48','4th','5','50', '50th', '6', '60', '67', '6th','7', '8', '9', ':', '?\"', '[', ']', ]\n",
    "stop_words.update(Stopword_list)\n"
   ]
  },
  {
   "cell_type": "markdown",
   "metadata": {},
   "source": [
    "---\n",
    "### 2. Read each inaugural address into an Pandas DataFrame"
   ]
  },
  {
   "cell_type": "markdown",
   "metadata": {},
   "source": [
    "**2.1 Create a vocabulary as a set of all unique stemmed terms in the corpus**"
   ]
  },
  {
   "cell_type": "code",
   "execution_count": 12,
   "metadata": {},
   "outputs": [],
   "source": [
    "vocab = set()"
   ]
  },
  {
   "cell_type": "code",
   "execution_count": 13,
   "metadata": {},
   "outputs": [],
   "source": [
    "for i in inaugural.fileids():\n",
    "    vocab.update([porter.stem(t.lower()) for t in nltk.corpus.inaugural.words(i) if t.lower() not in stop_words])\n"
   ]
  },
  {
   "cell_type": "markdown",
   "metadata": {},
   "source": [
    "**2.2 Use your vocabulary now to read each inaugural address into a dataframe**\n",
    "\n",
    "Each row of the dataframe should represent a document (one of the addresses). It may be handy at this time to also track the size (length) of each document, since you'll need this later when computing TF.\n",
    "\n",
    "You should ignore the README file. Hint: use `inaugural.fileids()`."
   ]
  },
  {
   "cell_type": "code",
   "execution_count": 14,
   "metadata": {
    "scrolled": true
   },
   "outputs": [],
   "source": [
    "df = pd.DataFrame(index = nltk.corpus.inaugural.fileids(), columns = vocab, dtype = float)\n",
    "df = df.fillna(0)\n",
    "\n",
    "for inaug in inaugural.fileids():\n",
    "    for t in nltk.corpus.inaugural.words(inaug): \n",
    "        w = porter.stem(t.lower())\n",
    "        if w in vocab:\n",
    "            df.at[inaug,w] += 1\n"
   ]
  },
  {
   "cell_type": "code",
   "execution_count": 15,
   "metadata": {},
   "outputs": [],
   "source": [
    "sizearr = []\n",
    "\n",
    "for inaug in inaugural.fileids():\n",
    "    new = []\n",
    "    for t in nltk.corpus.inaugural.words(inaug): \n",
    "        w = porter.stem(t.lower())\n",
    "        if w in vocab:\n",
    "            new.append(w)\n",
    "    sizearr.append(len(new))\n",
    "        \n"
   ]
  },
  {
   "cell_type": "code",
   "execution_count": 16,
   "metadata": {},
   "outputs": [
    {
     "data": {
      "text/plain": [
       "(58, 5338)"
      ]
     },
     "execution_count": 16,
     "metadata": {},
     "output_type": "execute_result"
    }
   ],
   "source": [
    "df.shape"
   ]
  },
  {
   "cell_type": "markdown",
   "metadata": {},
   "source": [
    "---\n",
    "### 3. Compute TF-IDF for the document-term matrix ###"
   ]
  },
  {
   "cell_type": "markdown",
   "metadata": {},
   "source": [
    "**3.1. Write a function to compute term frequency (TF) for each document**\n",
    "\n",
    "Please write your own code here, and resist the urge to rely on google for your answer."
   ]
  },
  {
   "cell_type": "code",
   "execution_count": 17,
   "metadata": {},
   "outputs": [],
   "source": [
    "def computetf(wordvec,doclen):\n",
    "    tfreq = wordvec / doclen\n",
    "    return tfreq     "
   ]
  },
  {
   "cell_type": "markdown",
   "metadata": {},
   "source": [
    "**3.2 Write a function to comput inverse document frequency**\n",
    "\n"
   ]
  },
  {
   "cell_type": "code",
   "execution_count": 19,
   "metadata": {},
   "outputs": [
    {
     "name": "stdout",
     "output_type": "stream",
     "text": [
      "53.0\n"
     ]
    }
   ],
   "source": [
    "import math \n",
    "\n",
    "dictidf = {}\n",
    "\n",
    "print(float(df.isin([0]).sum()['youth']))\n",
    "def computeidf(df):\n",
    "    N = df.shape[0]\n",
    "    dfvocab = df.columns\n",
    "    for word in dfvocab:\n",
    "        dictidf[word] = math.log(N / ( N - float(df.isin([0]).sum()[word])))\n",
    "    return dictidf\n"
   ]
  },
  {
   "cell_type": "code",
   "execution_count": 26,
   "metadata": {},
   "outputs": [],
   "source": [
    "#computeidf(df)"
   ]
  },
  {
   "cell_type": "markdown",
   "metadata": {},
   "source": [
    "**Create a new dataframe and populate it with the TF-IDF values for each document-term combination**\n",
    "\n",
    "The functions your write above should work with the below code snippet."
   ]
  },
  {
   "cell_type": "code",
   "execution_count": 20,
   "metadata": {},
   "outputs": [],
   "source": [
    "newdf = pd.DataFrame()\n",
    "idfdict = computeidf(df)\n",
    "cols = df.columns\n",
    "counter = 0\n",
    "for index, row in df.iterrows():\n",
    "    newrow = computetf(row,sizearr[counter])\n",
    "    for c in cols:\n",
    "        newrow[c] = newrow[c]*idfdict[c]\n",
    "    newdf = newdf.append(newrow)\n",
    "    counter += 1\n",
    "    \n",
    "    "
   ]
  },
  {
   "cell_type": "code",
   "execution_count": 21,
   "metadata": {},
   "outputs": [
    {
     "data": {
      "text/plain": [
       "(58, 5338)"
      ]
     },
     "execution_count": 21,
     "metadata": {},
     "output_type": "execute_result"
    }
   ],
   "source": [
    "newdf.shape"
   ]
  },
  {
   "cell_type": "markdown",
   "metadata": {},
   "source": [
    "---\n",
    "### 4. Using TF-IDF values, find and rank order the 3 closest inaugural addresses to Donald Trump's 2017 address, measured by cosine similarity"
   ]
  },
  {
   "cell_type": "code",
   "execution_count": 17,
   "metadata": {},
   "outputs": [
    {
     "data": {
      "text/plain": [
       "abandon      0.000000\n",
       "abat         0.000000\n",
       "abdic        0.000000\n",
       "abey         0.000000\n",
       "abhor        0.000000\n",
       "               ...   \n",
       "affair       0.000942\n",
       "affect       0.000000\n",
       "affection    0.000000\n",
       "affili       0.000000\n",
       "affirm       0.000000\n",
       "Name: 2017-Trump.txt, Length: 100, dtype: float64"
      ]
     },
     "execution_count": 17,
     "metadata": {},
     "output_type": "execute_result"
    }
   ],
   "source": [
    "# President Trump's address is 57 (0-indexed)\n",
    "newdf.iloc[57,:].head(100)"
   ]
  },
  {
   "cell_type": "markdown",
   "metadata": {},
   "source": [
    "**4.1 Create an array called dist that contains the cosine similarity distance between the 2017 inaugural address (called d1 below) and each of the inaugural addresses**"
   ]
  },
  {
   "cell_type": "code",
   "execution_count": 22,
   "metadata": {},
   "outputs": [],
   "source": [
    "d1 = newdf.iloc[57,:]\n",
    "dist = {}\n",
    "\n",
    "for index,row in newdf.iterrows():\n",
    "    trump_x = 0\n",
    "    if (index == '2017-Trump.txt'):\n",
    "        for i in row:\n",
    "            trump_x = trump_x + (i*i)\n",
    "        trump_x = math.sqrt(trump_x)\n",
    "        \n",
    "\n",
    "for index,row in newdf.iterrows():\n",
    "    x = 0\n",
    "    if (index != '2017-Trump.txt'):\n",
    "        dot = np.dot(d1,row)\n",
    "        for i in row:\n",
    "            x = x + (i * i)\n",
    "        x = math.sqrt(x)\n",
    "        dist[index] = (dot/(x*trump_x)) \n",
    "        "
   ]
  },
  {
   "cell_type": "markdown",
   "metadata": {},
   "source": [
    "**4.2 Find the 3 closest associated inaugural address, when measured by cosign similarity. Which one is the closest?**"
   ]
  },
  {
   "cell_type": "code",
   "execution_count": 19,
   "metadata": {},
   "outputs": [
    {
     "data": {
      "text/plain": [
       "{'1993-Clinton.txt': 0.21550935612294217,\n",
       " '1997-Clinton.txt': 0.2150051755816312,\n",
       " '2013-Obama.txt': 0.2146110035710023,\n",
       " '1969-Nixon.txt': 0.20061153405169074,\n",
       " '2009-Obama.txt': 0.19653190182025673,\n",
       " '1989-Bush.txt': 0.17567863678973705,\n",
       " '1981-Reagan.txt': 0.167648581722583,\n",
       " '1985-Reagan.txt': 0.15163820188391877,\n",
       " '2001-Bush.txt': 0.14808769202604324,\n",
       " '1973-Nixon.txt': 0.1393541033959192,\n",
       " '1957-Eisenhower.txt': 0.1120439703618146,\n",
       " '1961-Kennedy.txt': 0.10882966569210291,\n",
       " '1953-Eisenhower.txt': 0.1068375265931579,\n",
       " '1977-Carter.txt': 0.10475572809390814,\n",
       " '1937-Roosevelt.txt': 0.09974015719288304,\n",
       " '1921-Harding.txt': 0.09699903821384122,\n",
       " '1941-Roosevelt.txt': 0.09277371626566243,\n",
       " '1925-Coolidge.txt': 0.09209361051502471,\n",
       " '1913-Wilson.txt': 0.08723828449272053,\n",
       " '1965-Johnson.txt': 0.08616441032430808,\n",
       " '2005-Bush.txt': 0.08601020869744393,\n",
       " '1929-Hoover.txt': 0.08528235732742849,\n",
       " '1841-Harrison.txt': 0.07609357541762131,\n",
       " '1945-Roosevelt.txt': 0.07556471313548337,\n",
       " '1933-Roosevelt.txt': 0.07181766099573385,\n",
       " '1845-Polk.txt': 0.07151056430109463,\n",
       " '1889-Harrison.txt': 0.07101046834230107,\n",
       " '1881-Garfield.txt': 0.0701801369582244,\n",
       " '1897-McKinley.txt': 0.06730927511748638,\n",
       " '1949-Truman.txt': 0.0649982343830449,\n",
       " '1917-Wilson.txt': 0.06494861075512001,\n",
       " '1909-Taft.txt': 0.06473900014951456,\n",
       " '1853-Pierce.txt': 0.06472878893686572,\n",
       " '1857-Buchanan.txt': 0.06455931756361813,\n",
       " '1885-Cleveland.txt': 0.06252417977111217,\n",
       " '1837-VanBuren.txt': 0.059732121834446934,\n",
       " '1817-Monroe.txt': 0.058911267054714375,\n",
       " '1869-Grant.txt': 0.056454464312453656,\n",
       " '1905-Roosevelt.txt': 0.05602004029241302,\n",
       " '1849-Taylor.txt': 0.05601009124429264,\n",
       " '1797-Adams.txt': 0.05483061922960011,\n",
       " '1901-McKinley.txt': 0.05412158400289562,\n",
       " '1805-Jefferson.txt': 0.05230084760447384,\n",
       " '1825-Adams.txt': 0.05196709498605387,\n",
       " '1821-Monroe.txt': 0.051093285749778464,\n",
       " '1893-Cleveland.txt': 0.05105020667995372,\n",
       " '1801-Jefferson.txt': 0.048078760469229584,\n",
       " '1861-Lincoln.txt': 0.046148185261061854,\n",
       " '1873-Grant.txt': 0.04397697644434247,\n",
       " '1877-Hayes.txt': 0.042965264211363624,\n",
       " '1833-Jackson.txt': 0.038404007813404424,\n",
       " '1865-Lincoln.txt': 0.03588472523985412,\n",
       " '1793-Washington.txt': 0.03446267895829739,\n",
       " '1813-Madison.txt': 0.03207903074955159,\n",
       " '1829-Jackson.txt': 0.03204849803027357,\n",
       " '1809-Madison.txt': 0.0300523231540049,\n",
       " '1789-Washington.txt': 0.02839640267423462}"
      ]
     },
     "execution_count": 19,
     "metadata": {},
     "output_type": "execute_result"
    }
   ],
   "source": [
    "{k: v for k, v in sorted(dist.items(), reverse=True, key=lambda item: item[1])}"
   ]
  },
  {
   "cell_type": "markdown",
   "metadata": {},
   "source": [
    "---\n",
    "### 5. Compute the first two principal components of the TF-IDF matrix, and plot each document along each of the PCA components\n",
    "For this question, feel free to use google, stackoverflow, etc to help you compute the PCA (it's pretty easy, just one or two lines). Don't worry too much about the theory for now - we're going to discuss the Principal Component Decomposition later in the semester."
   ]
  },
  {
   "cell_type": "code",
   "execution_count": 23,
   "metadata": {},
   "outputs": [],
   "source": [
    "from sklearn.decomposition import PCA\n",
    "import matplotlib.pyplot as plt"
   ]
  },
  {
   "cell_type": "code",
   "execution_count": 24,
   "metadata": {},
   "outputs": [],
   "source": [
    "pca = PCA(n_components=2)\n",
    "X = pca.fit_transform(newdf.fillna(0))\n"
   ]
  },
  {
   "cell_type": "code",
   "execution_count": 25,
   "metadata": {},
   "outputs": [
    {
     "data": {
      "text/plain": [
       "58"
      ]
     },
     "execution_count": 25,
     "metadata": {},
     "output_type": "execute_result"
    }
   ],
   "source": [
    "len(X)"
   ]
  },
  {
   "cell_type": "code",
   "execution_count": 26,
   "metadata": {},
   "outputs": [
    {
     "data": {
      "image/png": "[encoded data removed]",
      "text/plain": [
       "<Figure size 432x288 with 1 Axes>"
      ]
     },
     "metadata": {
      "needs_background": "light"
     },
     "output_type": "display_data"
    }
   ],
   "source": [
    "plt.scatter(X[:, 0], X[:, 1], alpha=0.2)\n",
    "plt.axis('equal');\n",
    "for i in range(0,58):\n",
    "    plt.text(X[i,0],X[i,1],inaugural.fileids()[i])"
   ]
  }
 ],
 "metadata": {
  "kernelspec": {
   "display_name": "Python 3",
   "language": "python",
   "name": "python3"
  },
  "language_info": {
   "codemirror_mode": {
    "name": "ipython",
    "version": 3
   },
   "file_extension": ".py",
   "mimetype": "text/x-python",
   "name": "python",
   "nbconvert_exporter": "python",
   "pygments_lexer": "ipython3",
   "version": "3.8.3"
  }
 },
 "nbformat": 4,
 "nbformat_minor": 4
}
